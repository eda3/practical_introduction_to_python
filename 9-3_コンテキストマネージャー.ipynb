{
 "cells": [
  {
   "cell_type": "markdown",
   "metadata": {},
   "source": [
    "### 第二引数で書き込みモードを指定"
   ]
  },
  {
   "cell_type": "code",
   "execution_count": 2,
   "metadata": {},
   "outputs": [],
   "source": [
    "with open(\"some.txt\", \"w\") as f:\n",
    "    f.write(\"python\")"
   ]
  },
  {
   "cell_type": "markdown",
   "metadata": {},
   "source": [
    "### 例外処理もクローズされた"
   ]
  },
  {
   "cell_type": "code",
   "execution_count": 3,
   "metadata": {},
   "outputs": [
    {
     "data": {
      "text/plain": [
       "True"
      ]
     },
     "execution_count": 3,
     "metadata": {},
     "output_type": "execute_result"
    }
   ],
   "source": [
    "f.closed"
   ]
  },
  {
   "cell_type": "markdown",
   "metadata": {},
   "source": [
    "# 【コンテキストマネージャーの実装】"
   ]
  },
  {
   "cell_type": "markdown",
   "metadata": {},
   "source": [
    "## ■`__enter__()`、`__exit__()` withの前後に呼ばれるメソッド"
   ]
  },
  {
   "cell_type": "markdown",
   "metadata": {},
   "source": [
    "### このクラスのインスタンスがコンテキストマネージャー"
   ]
  },
  {
   "cell_type": "code",
   "execution_count": 4,
   "metadata": {},
   "outputs": [],
   "source": [
    "class ContextManager:\n",
    "    # 前処理を実装\n",
    "    def __enter__(self):\n",
    "        print(\"__enter__ was called\")\n",
    "\n",
    "    # 後処理を実装\n",
    "    def __exit__(self, exc_type, exc_value, traceback):\n",
    "        print(f\"{exc_type=}\")\n",
    "        print(f\"{exc_value=}\")\n",
    "        print(f\"{traceback=}\")"
   ]
  },
  {
   "cell_type": "markdown",
   "metadata": {},
   "source": [
    "### withブロックが正常の場合は\n",
    "### `__exit__()`の引数はすべてNone"
   ]
  },
  {
   "cell_type": "code",
   "execution_count": 5,
   "metadata": {},
   "outputs": [
    {
     "name": "stdout",
     "output_type": "stream",
     "text": [
      "__enter__ was called\n",
      "inside the block\n",
      "exc_type=None\n",
      "exc_value=None\n",
      "traceback=None\n"
     ]
    }
   ],
   "source": [
    "with ContextManager():\n",
    "    print(\"inside the block\")"
   ]
  },
  {
   "cell_type": "markdown",
   "metadata": {},
   "source": [
    "## ■with分と例外処理"
   ]
  },
  {
   "cell_type": "markdown",
   "metadata": {},
   "source": [
    "### withブロックナイで例外が発生した場合は\n",
    "### その情報が__exit__()に渡される"
   ]
  },
  {
   "cell_type": "code",
   "execution_count": 7,
   "metadata": {},
   "outputs": [
    {
     "name": "stdout",
     "output_type": "stream",
     "text": [
      "__enter__ was called\n",
      "exc_type=<class 'ZeroDivisionError'>\n",
      "exc_value=ZeroDivisionError('division by zero')\n",
      "traceback=<traceback object at 0x00000147DD5F9940>\n"
     ]
    },
    {
     "ename": "ZeroDivisionError",
     "evalue": "division by zero",
     "output_type": "error",
     "traceback": [
      "\u001b[1;31m---------------------------------------------------------------------------\u001b[0m",
      "\u001b[1;31mZeroDivisionError\u001b[0m                         Traceback (most recent call last)",
      "\u001b[1;32m<ipython-input-7-1366354bf3aa>\u001b[0m in \u001b[0;36m<module>\u001b[1;34m\u001b[0m\n\u001b[0;32m      1\u001b[0m \u001b[1;32mwith\u001b[0m \u001b[0mContextManager\u001b[0m\u001b[1;33m(\u001b[0m\u001b[1;33m)\u001b[0m\u001b[1;33m:\u001b[0m\u001b[1;33m\u001b[0m\u001b[1;33m\u001b[0m\u001b[0m\n\u001b[1;32m----> 2\u001b[1;33m     \u001b[1;36m1\u001b[0m \u001b[1;33m/\u001b[0m \u001b[1;36m0\u001b[0m\u001b[1;33m\u001b[0m\u001b[1;33m\u001b[0m\u001b[0m\n\u001b[0m",
      "\u001b[1;31mZeroDivisionError\u001b[0m: division by zero"
     ]
    }
   ],
   "source": [
    "with ContextManager():\n",
    "    1 / 0"
   ]
  },
  {
   "cell_type": "markdown",
   "metadata": {},
   "source": [
    "### ■asキーワード - `__enter__()`の戻り値を利用する"
   ]
  },
  {
   "cell_type": "code",
   "execution_count": 11,
   "metadata": {},
   "outputs": [],
   "source": [
    "class ContextManager:\n",
    "    # 戻り値がasキーワードに渡される\n",
    "    def __enter__(self):\n",
    "        return 1\n",
    "\n",
    "    def __exit__(self, exc_type, exc_value, traceback):\n",
    "        pass"
   ]
  },
  {
   "cell_type": "code",
   "execution_count": 12,
   "metadata": {},
   "outputs": [
    {
     "name": "stdout",
     "output_type": "stream",
     "text": [
      "1\n"
     ]
    }
   ],
   "source": [
    "with ContextManager() as f:\n",
    "    print(f)"
   ]
  },
  {
   "cell_type": "code",
   "execution_count": 16,
   "metadata": {},
   "outputs": [],
   "source": [
    "class Point:\n",
    "    def __init__(self, **kwargs):\n",
    "        self.value = kwargs\n",
    "\n",
    "    def __enter__(self):\n",
    "        print(\"__enter__ was called\")\n",
    "        return self.value  # as説で渡される\n",
    "\n",
    "    def __exit__(self, exc_type, exc_value, traceback):\n",
    "        print(\"__exit__ was called\")\n",
    "        print(self.value)"
   ]
  },
  {
   "cell_type": "code",
   "execution_count": 17,
   "metadata": {},
   "outputs": [
    {
     "name": "stdout",
     "output_type": "stream",
     "text": [
      "__enter__ was called\n",
      "{'x': 1, 'y': 2}\n",
      "__exit__ was called\n",
      "{'x': 1, 'y': 2, 'z': 3}\n"
     ]
    }
   ],
   "source": [
    "with Point(x=1, y=2) as p:\n",
    "    print(p)\n",
    "    p[\"z\"] = 3"
   ]
  },
  {
   "cell_type": "markdown",
   "metadata": {},
   "source": [
    "## ■contextlib.contextmanagerでシンプルに実装する"
   ]
  },
  {
   "cell_type": "code",
   "execution_count": 20,
   "metadata": {},
   "outputs": [],
   "source": [
    "from contextlib import contextmanager\n",
    "\n",
    "\n",
    "@contextmanager\n",
    "def point(**kwargs):\n",
    "    print(\"__enter__ was called\")\n",
    "    value = kwargs\n",
    "    try:\n",
    "        # yield式より上が前処理\n",
    "        # valueがasキーワードに渡される\n",
    "        yield value\n",
    "    # yield式より下が後処理\n",
    "    except Exception as e:\n",
    "        # エラー時はこちらも呼ばれる\n",
    "        print(e)\n",
    "        raise\n",
    "    finally:\n",
    "        print(\"__exit__ was called\")\n",
    "        print(value)"
   ]
  },
  {
   "cell_type": "code",
   "execution_count": 21,
   "metadata": {},
   "outputs": [
    {
     "name": "stdout",
     "output_type": "stream",
     "text": [
      "__enter__ was called\n",
      "{'x': 1, 'y': 2}\n",
      "__exit__ was called\n",
      "{'x': 1, 'y': 2, 'z': 3}\n"
     ]
    }
   ],
   "source": [
    "with point(x=1, y=2) as p:\n",
    "    print(p)\n",
    "    p[\"z\"] = 3"
   ]
  }
 ],
 "metadata": {
  "kernelspec": {
   "display_name": "Python 3",
   "language": "python",
   "name": "python3"
  },
  "language_info": {
   "codemirror_mode": {
    "name": "ipython",
    "version": 3
   },
   "file_extension": ".py",
   "mimetype": "text/x-python",
   "name": "python",
   "nbconvert_exporter": "python",
   "pygments_lexer": "ipython3",
   "version": "3.8.2"
  }
 },
 "nbformat": 4,
 "nbformat_minor": 4
}
